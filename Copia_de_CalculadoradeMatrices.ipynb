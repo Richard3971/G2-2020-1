{
  "nbformat": 4,
  "nbformat_minor": 0,
  "metadata": {
    "colab": {
      "name": "Copia de CalculadoradeMatrices.ipynb",
      "provenance": [],
      "toc_visible": true,
      "include_colab_link": true
    },
    "kernelspec": {
      "name": "python3",
      "display_name": "Python 3"
    }
  },
  "cells": [
    {
      "cell_type": "markdown",
      "metadata": {
        "id": "view-in-github",
        "colab_type": "text"
      },
      "source": [
        "<a href=\"https://colab.research.google.com/github/Richard3971/G2-2020-1/blob/main/Copia_de_CalculadoradeMatrices.ipynb\" target=\"_parent\"><img src=\"https://colab.research.google.com/assets/colab-badge.svg\" alt=\"Open In Colab\"/></a>"
      ]
    },
    {
      "cell_type": "markdown",
      "metadata": {
        "id": "7uw2GqJO4-U2"
      },
      "source": [
        "#Ejemplo de ejecución\n",
        "A continuación se muestra un ejemplo de ejecución de un archivo escrito en C utilizando Google Colab.\n"
      ]
    },
    {
      "cell_type": "markdown",
      "metadata": {
        "id": "7MWurzrVIFdK"
      },
      "source": [
        "1. Guardando codigo de C en la variable **code**."
      ]
    },
    {
      "cell_type": "code",
      "metadata": {
        "id": "fYChXKKlU3_n"
      },
      "source": [
        "code=\"\"\"\n",
        "#include <omp.h>\n",
        "#include <stdio.h> \n",
        "#include <stdlib.h> \n",
        "//using namespace std;\n",
        "int main()\n",
        "{\n",
        "    #pragma omp parallel sections num_threads(4)\n",
        "\t{\n",
        "\n",
        "#pragma omp section\n",
        "\n",
        "\t\tFunc1();\n",
        "\n",
        "\n",
        "#pragma omp section\n",
        "\n",
        "\t\tFunc2();\n",
        "\n",
        "\n",
        "#pragma omp section\n",
        "\n",
        "\t\tFunc3();\n",
        "\n",
        "\n",
        "#pragma omp section\n",
        "\n",
        "\t\tFunc4();\n",
        "\n",
        "\t}\n",
        "    return 0;\n",
        "}\n",
        "\"\"\""
      ],
      "execution_count": 49,
      "outputs": []
    },
    {
      "cell_type": "markdown",
      "metadata": {
        "id": "MWnEu03TI19H"
      },
      "source": [
        "2. Creando archivo **code.c** por medio de la variable **code**."
      ]
    },
    {
      "cell_type": "code",
      "metadata": {
        "id": "z8CLUMCZFaV4"
      },
      "source": [
        "text_file = open(\"code.c\", \"w\")\n",
        "text_file.write(code)\n",
        "text_file.close()"
      ],
      "execution_count": 50,
      "outputs": []
    },
    {
      "cell_type": "markdown",
      "metadata": {
        "id": "lcAKKBKHH6s4"
      },
      "source": [
        "3. Designando el número de hilos a utilizar."
      ]
    },
    {
      "cell_type": "code",
      "metadata": {
        "id": "slJ2qYXnFcXA",
        "outputId": "99d1d3e7-0156-4a21-e767-878f739fd2f4",
        "colab": {
          "base_uri": "https://localhost:8080/",
          "height": 34
        }
      },
      "source": [
        "%env OMP_NUM_THREADS=2"
      ],
      "execution_count": 51,
      "outputs": [
        {
          "output_type": "stream",
          "text": [
            "env: OMP_NUM_THREADS=2\n"
          ],
          "name": "stdout"
        }
      ]
    },
    {
      "cell_type": "markdown",
      "metadata": {
        "id": "RqLAnN63G7fO"
      },
      "source": [
        "4. Compilando el archivo generado."
      ]
    },
    {
      "cell_type": "code",
      "metadata": {
        "id": "uQAhZC6jFeFQ",
        "outputId": "3794ca57-68e2-485c-d59a-89433213fe04",
        "colab": {
          "base_uri": "https://localhost:8080/",
          "height": 1000
        }
      },
      "source": [
        "!gcc -o file -fopenmp code.c"
      ],
      "execution_count": 52,
      "outputs": [
        {
          "output_type": "stream",
          "text": [
            "\u001b[01m\u001b[Kcode.c:\u001b[m\u001b[K In function ‘\u001b[01m\u001b[KFunc1\u001b[m\u001b[K’:\n",
            "\u001b[01m\u001b[Kcode.c:8:9:\u001b[m\u001b[K \u001b[01;35m\u001b[Kwarning: \u001b[m\u001b[Kmissing terminating \" character\n",
            "  printf(\u001b[01;35m\u001b[K\"\u001b[m\u001b[KA\n",
            "         \u001b[01;35m\u001b[K^\u001b[m\u001b[K\n",
            "\u001b[01m\u001b[Kcode.c:8:9:\u001b[m\u001b[K \u001b[01;31m\u001b[Kerror: \u001b[m\u001b[Kmissing terminating \" character\n",
            "  printf(\u001b[01;31m\u001b[K\"A\u001b[m\u001b[K\n",
            "         \u001b[01;31m\u001b[K^~\u001b[m\u001b[K\n",
            "\u001b[01m\u001b[Kcode.c:9:1:\u001b[m\u001b[K \u001b[01;35m\u001b[Kwarning: \u001b[m\u001b[Kmissing terminating \" character\n",
            " \u001b[01;35m\u001b[K\"\u001b[m\u001b[K);\n",
            " \u001b[01;35m\u001b[K^\u001b[m\u001b[K\n",
            "\u001b[01m\u001b[Kcode.c:9:1:\u001b[m\u001b[K \u001b[01;31m\u001b[Kerror: \u001b[m\u001b[Kmissing terminating \" character\n",
            " \u001b[01;31m\u001b[K\");\u001b[m\u001b[K\n",
            " \u001b[01;31m\u001b[K^~~\u001b[m\u001b[K\n",
            "\u001b[01m\u001b[Kcode.c:10:1:\u001b[m\u001b[K \u001b[01;31m\u001b[Kerror: \u001b[m\u001b[Kexpected expression before ‘\u001b[01m\u001b[K}\u001b[m\u001b[K’ token\n",
            " \u001b[01;31m\u001b[K}\u001b[m\u001b[K\n",
            " \u001b[01;31m\u001b[K^\u001b[m\u001b[K\n",
            "\u001b[01m\u001b[Kcode.c:10:1:\u001b[m\u001b[K \u001b[01;31m\u001b[Kerror: \u001b[m\u001b[Kexpected ‘\u001b[01m\u001b[K;\u001b[m\u001b[K’ before ‘\u001b[01m\u001b[K}\u001b[m\u001b[K’ token\n",
            "\u001b[01m\u001b[Kcode.c:\u001b[m\u001b[K In function ‘\u001b[01m\u001b[KFunc2\u001b[m\u001b[K’:\n",
            "\u001b[01m\u001b[Kcode.c:13:9:\u001b[m\u001b[K \u001b[01;35m\u001b[Kwarning: \u001b[m\u001b[Kmissing terminating \" character\n",
            "  printf(\u001b[01;35m\u001b[K\"\u001b[m\u001b[KD\n",
            "         \u001b[01;35m\u001b[K^\u001b[m\u001b[K\n",
            "\u001b[01m\u001b[Kcode.c:13:9:\u001b[m\u001b[K \u001b[01;31m\u001b[Kerror: \u001b[m\u001b[Kmissing terminating \" character\n",
            "  printf(\u001b[01;31m\u001b[K\"D\u001b[m\u001b[K\n",
            "         \u001b[01;31m\u001b[K^~\u001b[m\u001b[K\n",
            "\u001b[01m\u001b[Kcode.c:14:1:\u001b[m\u001b[K \u001b[01;35m\u001b[Kwarning: \u001b[m\u001b[Kmissing terminating \" character\n",
            " \u001b[01;35m\u001b[K\"\u001b[m\u001b[K);\n",
            " \u001b[01;35m\u001b[K^\u001b[m\u001b[K\n",
            "\u001b[01m\u001b[Kcode.c:14:1:\u001b[m\u001b[K \u001b[01;31m\u001b[Kerror: \u001b[m\u001b[Kmissing terminating \" character\n",
            " \u001b[01;31m\u001b[K\");\u001b[m\u001b[K\n",
            " \u001b[01;31m\u001b[K^~~\u001b[m\u001b[K\n",
            "\u001b[01m\u001b[Kcode.c:15:1:\u001b[m\u001b[K \u001b[01;31m\u001b[Kerror: \u001b[m\u001b[Kexpected expression before ‘\u001b[01m\u001b[K}\u001b[m\u001b[K’ token\n",
            " \u001b[01;31m\u001b[K}\u001b[m\u001b[K\n",
            " \u001b[01;31m\u001b[K^\u001b[m\u001b[K\n",
            "\u001b[01m\u001b[Kcode.c:15:1:\u001b[m\u001b[K \u001b[01;31m\u001b[Kerror: \u001b[m\u001b[Kexpected ‘\u001b[01m\u001b[K;\u001b[m\u001b[K’ before ‘\u001b[01m\u001b[K}\u001b[m\u001b[K’ token\n",
            "\u001b[01m\u001b[Kcode.c:\u001b[m\u001b[K In function ‘\u001b[01m\u001b[KFunc3\u001b[m\u001b[K’:\n",
            "\u001b[01m\u001b[Kcode.c:18:9:\u001b[m\u001b[K \u001b[01;35m\u001b[Kwarning: \u001b[m\u001b[Kmissing terminating \" character\n",
            "  printf(\u001b[01;35m\u001b[K\"\u001b[m\u001b[KE\n",
            "         \u001b[01;35m\u001b[K^\u001b[m\u001b[K\n",
            "\u001b[01m\u001b[Kcode.c:18:9:\u001b[m\u001b[K \u001b[01;31m\u001b[Kerror: \u001b[m\u001b[Kmissing terminating \" character\n",
            "  printf(\u001b[01;31m\u001b[K\"E\u001b[m\u001b[K\n",
            "         \u001b[01;31m\u001b[K^~\u001b[m\u001b[K\n",
            "\u001b[01m\u001b[Kcode.c:19:1:\u001b[m\u001b[K \u001b[01;35m\u001b[Kwarning: \u001b[m\u001b[Kmissing terminating \" character\n",
            " \u001b[01;35m\u001b[K\"\u001b[m\u001b[K);\n",
            " \u001b[01;35m\u001b[K^\u001b[m\u001b[K\n",
            "\u001b[01m\u001b[Kcode.c:19:1:\u001b[m\u001b[K \u001b[01;31m\u001b[Kerror: \u001b[m\u001b[Kmissing terminating \" character\n",
            " \u001b[01;31m\u001b[K\");\u001b[m\u001b[K\n",
            " \u001b[01;31m\u001b[K^~~\u001b[m\u001b[K\n",
            "\u001b[01m\u001b[Kcode.c:20:1:\u001b[m\u001b[K \u001b[01;31m\u001b[Kerror: \u001b[m\u001b[Kexpected expression before ‘\u001b[01m\u001b[K}\u001b[m\u001b[K’ token\n",
            " \u001b[01;31m\u001b[K}\u001b[m\u001b[K\n",
            " \u001b[01;31m\u001b[K^\u001b[m\u001b[K\n",
            "\u001b[01m\u001b[Kcode.c:20:1:\u001b[m\u001b[K \u001b[01;31m\u001b[Kerror: \u001b[m\u001b[Kexpected ‘\u001b[01m\u001b[K;\u001b[m\u001b[K’ before ‘\u001b[01m\u001b[K}\u001b[m\u001b[K’ token\n",
            "\u001b[01m\u001b[Kcode.c:\u001b[m\u001b[K In function ‘\u001b[01m\u001b[KFunc4\u001b[m\u001b[K’:\n",
            "\u001b[01m\u001b[Kcode.c:23:9:\u001b[m\u001b[K \u001b[01;35m\u001b[Kwarning: \u001b[m\u001b[Kmissing terminating \" character\n",
            "  printf(\u001b[01;35m\u001b[K\"\u001b[m\u001b[KC\n",
            "         \u001b[01;35m\u001b[K^\u001b[m\u001b[K\n",
            "\u001b[01m\u001b[Kcode.c:23:9:\u001b[m\u001b[K \u001b[01;31m\u001b[Kerror: \u001b[m\u001b[Kmissing terminating \" character\n",
            "  printf(\u001b[01;31m\u001b[K\"C\u001b[m\u001b[K\n",
            "         \u001b[01;31m\u001b[K^~\u001b[m\u001b[K\n",
            "\u001b[01m\u001b[Kcode.c:24:1:\u001b[m\u001b[K \u001b[01;35m\u001b[Kwarning: \u001b[m\u001b[Kmissing terminating \" character\n",
            " \u001b[01;35m\u001b[K\"\u001b[m\u001b[K);\n",
            " \u001b[01;35m\u001b[K^\u001b[m\u001b[K\n",
            "\u001b[01m\u001b[Kcode.c:24:1:\u001b[m\u001b[K \u001b[01;31m\u001b[Kerror: \u001b[m\u001b[Kmissing terminating \" character\n",
            " \u001b[01;31m\u001b[K\");\u001b[m\u001b[K\n",
            " \u001b[01;31m\u001b[K^~~\u001b[m\u001b[K\n",
            "\u001b[01m\u001b[Kcode.c:25:1:\u001b[m\u001b[K \u001b[01;31m\u001b[Kerror: \u001b[m\u001b[Kexpected expression before ‘\u001b[01m\u001b[K}\u001b[m\u001b[K’ token\n",
            " \u001b[01;31m\u001b[K}\u001b[m\u001b[K\n",
            " \u001b[01;31m\u001b[K^\u001b[m\u001b[K\n",
            "\u001b[01m\u001b[Kcode.c:25:1:\u001b[m\u001b[K \u001b[01;31m\u001b[Kerror: \u001b[m\u001b[Kexpected ‘\u001b[01m\u001b[K;\u001b[m\u001b[K’ before ‘\u001b[01m\u001b[K}\u001b[m\u001b[K’ token\n"
          ],
          "name": "stdout"
        }
      ]
    },
    {
      "cell_type": "markdown",
      "metadata": {
        "id": "6hgogvpnHChu"
      },
      "source": [
        "5. Ejecutando el archivo."
      ]
    },
    {
      "cell_type": "code",
      "metadata": {
        "id": "XFH-AFj3Ffvf",
        "outputId": "3ae645da-78b0-42f3-a771-1d64e10dd63e",
        "colab": {
          "base_uri": "https://localhost:8080/",
          "height": 34
        }
      },
      "source": [
        "!./file"
      ],
      "execution_count": 53,
      "outputs": [
        {
          "output_type": "stream",
          "text": [
            "12 14 16 18 20 22 24 26 28 30 "
          ],
          "name": "stdout"
        }
      ]
    }
  ]
}